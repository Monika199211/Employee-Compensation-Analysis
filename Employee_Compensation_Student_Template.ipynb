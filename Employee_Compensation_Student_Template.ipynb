{
 "cells": [
  {
   "cell_type": "code",
   "execution_count": 1,
   "metadata": {},
   "outputs": [
    {
     "data": {
      "text/html": [
       "<div>\n",
       "<style scoped>\n",
       "    .dataframe tbody tr th:only-of-type {\n",
       "        vertical-align: middle;\n",
       "    }\n",
       "\n",
       "    .dataframe tbody tr th {\n",
       "        vertical-align: top;\n",
       "    }\n",
       "\n",
       "    .dataframe thead th {\n",
       "        text-align: right;\n",
       "    }\n",
       "</style>\n",
       "<table border=\"1\" class=\"dataframe\">\n",
       "  <thead>\n",
       "    <tr style=\"text-align: right;\">\n",
       "      <th></th>\n",
       "      <th>Id</th>\n",
       "      <th>Year Type</th>\n",
       "      <th>Year</th>\n",
       "      <th>Organization Group</th>\n",
       "      <th>Department</th>\n",
       "      <th>Union</th>\n",
       "      <th>Job Family</th>\n",
       "      <th>Job</th>\n",
       "      <th>Employee Identifier</th>\n",
       "      <th>Retirement</th>\n",
       "      <th>Health and Dental</th>\n",
       "      <th>Other Benefits</th>\n",
       "      <th>Total Compensation</th>\n",
       "    </tr>\n",
       "  </thead>\n",
       "  <tbody>\n",
       "    <tr>\n",
       "      <th>0</th>\n",
       "      <td>0</td>\n",
       "      <td>Calendar</td>\n",
       "      <td>2018</td>\n",
       "      <td>Community Health</td>\n",
       "      <td>NaN</td>\n",
       "      <td>Prof &amp; Tech Eng, Local 21</td>\n",
       "      <td>Information Systems</td>\n",
       "      <td>IS Business Analyst-Principal</td>\n",
       "      <td>8594384</td>\n",
       "      <td>$0.0</td>\n",
       "      <td>$13527.66</td>\n",
       "      <td>$0.0</td>\n",
       "      <td>0.00</td>\n",
       "    </tr>\n",
       "    <tr>\n",
       "      <th>1</th>\n",
       "      <td>1</td>\n",
       "      <td>Calendar</td>\n",
       "      <td>2014</td>\n",
       "      <td>Public Works, Transportation &amp; Commerce</td>\n",
       "      <td>MTA Municipal Transprtn Agncy</td>\n",
       "      <td>SEIU - Miscellaneous, Local 1021</td>\n",
       "      <td>Public Service Aide</td>\n",
       "      <td>Publ Svc Aide-Asst To Prof</td>\n",
       "      <td>22142</td>\n",
       "      <td>$0.0</td>\n",
       "      <td>$3995.56</td>\n",
       "      <td>$875.27</td>\n",
       "      <td>16176.35</td>\n",
       "    </tr>\n",
       "    <tr>\n",
       "      <th>2</th>\n",
       "      <td>2</td>\n",
       "      <td>Fiscal</td>\n",
       "      <td>2018</td>\n",
       "      <td>General City Responsibilities</td>\n",
       "      <td>NaN</td>\n",
       "      <td>SEIU, Local 1021, Misc</td>\n",
       "      <td>Payroll, Billing &amp; Accounting</td>\n",
       "      <td>Senior Account Clerk</td>\n",
       "      <td>8512172</td>\n",
       "      <td>$0.0</td>\n",
       "      <td>$0.0</td>\n",
       "      <td>$0.0</td>\n",
       "      <td>248.30</td>\n",
       "    </tr>\n",
       "    <tr>\n",
       "      <th>3</th>\n",
       "      <td>3</td>\n",
       "      <td>Fiscal</td>\n",
       "      <td>2015</td>\n",
       "      <td>Community Health</td>\n",
       "      <td>DPH Public Health</td>\n",
       "      <td>SEIU - Miscellaneous, Local 1021</td>\n",
       "      <td>Purchasing &amp; Storekeeping</td>\n",
       "      <td>Sr Materials &amp; Supplies Sprv</td>\n",
       "      <td>47593</td>\n",
       "      <td>$11671.59</td>\n",
       "      <td>$10680.55</td>\n",
       "      <td>$4400.24</td>\n",
       "      <td>80020.86</td>\n",
       "    </tr>\n",
       "    <tr>\n",
       "      <th>4</th>\n",
       "      <td>4</td>\n",
       "      <td>Fiscal</td>\n",
       "      <td>2014</td>\n",
       "      <td>Community Health</td>\n",
       "      <td>DPH Public Health</td>\n",
       "      <td>SEIU - Miscellaneous, Local 1021</td>\n",
       "      <td>Hospital Administration</td>\n",
       "      <td>Medical Records Technician</td>\n",
       "      <td>47549</td>\n",
       "      <td>$14617.66</td>\n",
       "      <td>$12464.61</td>\n",
       "      <td>$5562.09</td>\n",
       "      <td>101207.38</td>\n",
       "    </tr>\n",
       "  </tbody>\n",
       "</table>\n",
       "</div>"
      ],
      "text/plain": [
       "   Id Year Type  Year                       Organization Group  \\\n",
       "0   0  Calendar  2018                         Community Health   \n",
       "1   1  Calendar  2014  Public Works, Transportation & Commerce   \n",
       "2   2    Fiscal  2018            General City Responsibilities   \n",
       "3   3    Fiscal  2015                         Community Health   \n",
       "4   4    Fiscal  2014                         Community Health   \n",
       "\n",
       "                      Department                             Union  \\\n",
       "0                            NaN         Prof & Tech Eng, Local 21   \n",
       "1  MTA Municipal Transprtn Agncy  SEIU - Miscellaneous, Local 1021   \n",
       "2                            NaN            SEIU, Local 1021, Misc   \n",
       "3              DPH Public Health  SEIU - Miscellaneous, Local 1021   \n",
       "4              DPH Public Health  SEIU - Miscellaneous, Local 1021   \n",
       "\n",
       "                      Job Family                            Job  \\\n",
       "0            Information Systems  IS Business Analyst-Principal   \n",
       "1            Public Service Aide     Publ Svc Aide-Asst To Prof   \n",
       "2  Payroll, Billing & Accounting           Senior Account Clerk   \n",
       "3      Purchasing & Storekeeping   Sr Materials & Supplies Sprv   \n",
       "4        Hospital Administration     Medical Records Technician   \n",
       "\n",
       "   Employee Identifier Retirement Health and Dental Other Benefits  \\\n",
       "0              8594384       $0.0         $13527.66           $0.0   \n",
       "1                22142       $0.0          $3995.56        $875.27   \n",
       "2              8512172       $0.0              $0.0           $0.0   \n",
       "3                47593  $11671.59         $10680.55       $4400.24   \n",
       "4                47549  $14617.66         $12464.61       $5562.09   \n",
       "\n",
       "   Total Compensation  \n",
       "0                0.00  \n",
       "1            16176.35  \n",
       "2              248.30  \n",
       "3            80020.86  \n",
       "4           101207.38  "
      ]
     },
     "execution_count": 1,
     "metadata": {},
     "output_type": "execute_result"
    }
   ],
   "source": [
    "# import the modules\n",
    "import pandas as pd \n",
    "import numpy as np\n",
    "from sklearn.model_selection import train_test_split\n",
    "from sklearn.linear_model import LinearRegression\n",
    "from sklearn.linear_model import Lasso\n",
    "from sklearn.linear_model import Ridge\n",
    "from sklearn.metrics import mean_squared_error\n",
    "from sklearn.metrics import r2_score\n",
    "from sklearn.preprocessing import PolynomialFeatures\n",
    "\n",
    "import warnings\n",
    "warnings.filterwarnings('ignore')\n",
    "\n",
    "df_train=pd.read_csv(\"train.csv\")\n",
    "df_train.head()\n"
   ]
  },
  {
   "cell_type": "code",
   "execution_count": 2,
   "metadata": {},
   "outputs": [
    {
     "data": {
      "text/html": [
       "<div>\n",
       "<style scoped>\n",
       "    .dataframe tbody tr th:only-of-type {\n",
       "        vertical-align: middle;\n",
       "    }\n",
       "\n",
       "    .dataframe tbody tr th {\n",
       "        vertical-align: top;\n",
       "    }\n",
       "\n",
       "    .dataframe thead th {\n",
       "        text-align: right;\n",
       "    }\n",
       "</style>\n",
       "<table border=\"1\" class=\"dataframe\">\n",
       "  <thead>\n",
       "    <tr style=\"text-align: right;\">\n",
       "      <th></th>\n",
       "      <th>Id</th>\n",
       "      <th>Year</th>\n",
       "      <th>Employee Identifier</th>\n",
       "      <th>Total Compensation</th>\n",
       "    </tr>\n",
       "  </thead>\n",
       "  <tbody>\n",
       "    <tr>\n",
       "      <th>Id</th>\n",
       "      <td>1.000000</td>\n",
       "      <td>0.002284</td>\n",
       "      <td>0.001306</td>\n",
       "      <td>0.001243</td>\n",
       "    </tr>\n",
       "    <tr>\n",
       "      <th>Year</th>\n",
       "      <td>0.002284</td>\n",
       "      <td>1.000000</td>\n",
       "      <td>0.807132</td>\n",
       "      <td>-0.050990</td>\n",
       "    </tr>\n",
       "    <tr>\n",
       "      <th>Employee Identifier</th>\n",
       "      <td>0.001306</td>\n",
       "      <td>0.807132</td>\n",
       "      <td>1.000000</td>\n",
       "      <td>-0.162666</td>\n",
       "    </tr>\n",
       "    <tr>\n",
       "      <th>Total Compensation</th>\n",
       "      <td>0.001243</td>\n",
       "      <td>-0.050990</td>\n",
       "      <td>-0.162666</td>\n",
       "      <td>1.000000</td>\n",
       "    </tr>\n",
       "  </tbody>\n",
       "</table>\n",
       "</div>"
      ],
      "text/plain": [
       "                           Id      Year  Employee Identifier  \\\n",
       "Id                   1.000000  0.002284             0.001306   \n",
       "Year                 0.002284  1.000000             0.807132   \n",
       "Employee Identifier  0.001306  0.807132             1.000000   \n",
       "Total Compensation   0.001243 -0.050990            -0.162666   \n",
       "\n",
       "                     Total Compensation  \n",
       "Id                             0.001243  \n",
       "Year                          -0.050990  \n",
       "Employee Identifier           -0.162666  \n",
       "Total Compensation             1.000000  "
      ]
     },
     "execution_count": 2,
     "metadata": {},
     "output_type": "execute_result"
    }
   ],
   "source": [
    "df_train.corr()"
   ]
  },
  {
   "cell_type": "code",
   "execution_count": 3,
   "metadata": {},
   "outputs": [
    {
     "name": "stdout",
     "output_type": "stream",
     "text": [
      "<class 'pandas.core.frame.DataFrame'>\n",
      "RangeIndex: 567103 entries, 0 to 567102\n",
      "Data columns (total 13 columns):\n",
      " #   Column               Non-Null Count   Dtype  \n",
      "---  ------               --------------   -----  \n",
      " 0   Id                   567103 non-null  int64  \n",
      " 1   Year Type            567103 non-null  object \n",
      " 2   Year                 567103 non-null  int64  \n",
      " 3   Organization Group   567103 non-null  object \n",
      " 4   Department           272038 non-null  object \n",
      " 5   Union                566758 non-null  object \n",
      " 6   Job Family           567103 non-null  object \n",
      " 7   Job                  567100 non-null  object \n",
      " 8   Employee Identifier  567103 non-null  int64  \n",
      " 9   Retirement           567103 non-null  object \n",
      " 10  Health and Dental    567103 non-null  object \n",
      " 11  Other Benefits       567103 non-null  object \n",
      " 12  Total Compensation   567103 non-null  float64\n",
      "dtypes: float64(1), int64(3), object(9)\n",
      "memory usage: 36.8+ MB\n"
     ]
    }
   ],
   "source": [
    "df_train.info()"
   ]
  },
  {
   "cell_type": "code",
   "execution_count": 4,
   "metadata": {},
   "outputs": [
    {
     "data": {
      "text/html": [
       "<div>\n",
       "<style scoped>\n",
       "    .dataframe tbody tr th:only-of-type {\n",
       "        vertical-align: middle;\n",
       "    }\n",
       "\n",
       "    .dataframe tbody tr th {\n",
       "        vertical-align: top;\n",
       "    }\n",
       "\n",
       "    .dataframe thead th {\n",
       "        text-align: right;\n",
       "    }\n",
       "</style>\n",
       "<table border=\"1\" class=\"dataframe\">\n",
       "  <thead>\n",
       "    <tr style=\"text-align: right;\">\n",
       "      <th></th>\n",
       "      <th>Id</th>\n",
       "      <th>Year Type</th>\n",
       "      <th>Year</th>\n",
       "      <th>Organization Group</th>\n",
       "      <th>Department</th>\n",
       "      <th>Union</th>\n",
       "      <th>Job Family</th>\n",
       "      <th>Job</th>\n",
       "      <th>Employee Identifier</th>\n",
       "      <th>Retirement</th>\n",
       "      <th>Health and Dental</th>\n",
       "      <th>Other Benefits</th>\n",
       "      <th>Total Compensation</th>\n",
       "    </tr>\n",
       "  </thead>\n",
       "  <tbody>\n",
       "    <tr>\n",
       "      <th>0</th>\n",
       "      <td>0</td>\n",
       "      <td>Calendar</td>\n",
       "      <td>2018</td>\n",
       "      <td>Community Health</td>\n",
       "      <td>NaN</td>\n",
       "      <td>Prof &amp; Tech Eng, Local 21</td>\n",
       "      <td>Information Systems</td>\n",
       "      <td>IS Business Analyst-Principal</td>\n",
       "      <td>8594384</td>\n",
       "      <td>$0.0</td>\n",
       "      <td>$13527.66</td>\n",
       "      <td>$0.0</td>\n",
       "      <td>0.00</td>\n",
       "    </tr>\n",
       "    <tr>\n",
       "      <th>1</th>\n",
       "      <td>1</td>\n",
       "      <td>Calendar</td>\n",
       "      <td>2014</td>\n",
       "      <td>Public Works, Transportation &amp; Commerce</td>\n",
       "      <td>MTA Municipal Transprtn Agncy</td>\n",
       "      <td>SEIU - Miscellaneous, Local 1021</td>\n",
       "      <td>Public Service Aide</td>\n",
       "      <td>Publ Svc Aide-Asst To Prof</td>\n",
       "      <td>22142</td>\n",
       "      <td>$0.0</td>\n",
       "      <td>$3995.56</td>\n",
       "      <td>$875.27</td>\n",
       "      <td>16176.35</td>\n",
       "    </tr>\n",
       "    <tr>\n",
       "      <th>5</th>\n",
       "      <td>5</td>\n",
       "      <td>Calendar</td>\n",
       "      <td>2016</td>\n",
       "      <td>Public Protection</td>\n",
       "      <td>JUV Juvenile Probation</td>\n",
       "      <td>SEIU - Miscellaneous, Local 1021</td>\n",
       "      <td>Clerical, Secretarial &amp; Steno</td>\n",
       "      <td>Transcriber Typist</td>\n",
       "      <td>9836</td>\n",
       "      <td>$0.0</td>\n",
       "      <td>$98.16</td>\n",
       "      <td>$940.57</td>\n",
       "      <td>13333.73</td>\n",
       "    </tr>\n",
       "    <tr>\n",
       "      <th>7</th>\n",
       "      <td>7</td>\n",
       "      <td>Calendar</td>\n",
       "      <td>2016</td>\n",
       "      <td>Human Welfare &amp; Neighborhood Development</td>\n",
       "      <td>HSA Human Services Agency</td>\n",
       "      <td>SEIU - Miscellaneous, Local 1021</td>\n",
       "      <td>Public Service Aide</td>\n",
       "      <td>Public Service Trainee</td>\n",
       "      <td>47063</td>\n",
       "      <td>$0.0</td>\n",
       "      <td>$4721.32</td>\n",
       "      <td>$857.15</td>\n",
       "      <td>16026.03</td>\n",
       "    </tr>\n",
       "    <tr>\n",
       "      <th>8</th>\n",
       "      <td>8</td>\n",
       "      <td>Calendar</td>\n",
       "      <td>2017</td>\n",
       "      <td>General City Responsibilities</td>\n",
       "      <td>NaN</td>\n",
       "      <td>SEIU, Local 1021, Misc</td>\n",
       "      <td>Clerical, Secretarial &amp; Steno</td>\n",
       "      <td>Secretary 2</td>\n",
       "      <td>8586840</td>\n",
       "      <td>$0.0</td>\n",
       "      <td>$5432.36</td>\n",
       "      <td>$0.0</td>\n",
       "      <td>0.00</td>\n",
       "    </tr>\n",
       "    <tr>\n",
       "      <th>...</th>\n",
       "      <td>...</td>\n",
       "      <td>...</td>\n",
       "      <td>...</td>\n",
       "      <td>...</td>\n",
       "      <td>...</td>\n",
       "      <td>...</td>\n",
       "      <td>...</td>\n",
       "      <td>...</td>\n",
       "      <td>...</td>\n",
       "      <td>...</td>\n",
       "      <td>...</td>\n",
       "      <td>...</td>\n",
       "      <td>...</td>\n",
       "    </tr>\n",
       "    <tr>\n",
       "      <th>567092</th>\n",
       "      <td>567092</td>\n",
       "      <td>Calendar</td>\n",
       "      <td>2013</td>\n",
       "      <td>Public Works, Transportation &amp; Commerce</td>\n",
       "      <td>PUB Public Utilities Bureaus</td>\n",
       "      <td>SEIU - Miscellaneous, Local 1021</td>\n",
       "      <td>Public Service Aide</td>\n",
       "      <td>PS Aide To Prof</td>\n",
       "      <td>34121</td>\n",
       "      <td>$0.0</td>\n",
       "      <td>$4760.61</td>\n",
       "      <td>$1147.02</td>\n",
       "      <td>20723.20</td>\n",
       "    </tr>\n",
       "    <tr>\n",
       "      <th>567093</th>\n",
       "      <td>567093</td>\n",
       "      <td>Calendar</td>\n",
       "      <td>2018</td>\n",
       "      <td>General City Responsibilities</td>\n",
       "      <td>NaN</td>\n",
       "      <td>SEIU, Local 1021, Misc</td>\n",
       "      <td>Clerical, Secretarial &amp; Steno</td>\n",
       "      <td>Principal Clerk</td>\n",
       "      <td>8531376</td>\n",
       "      <td>$4409.63</td>\n",
       "      <td>$24449.54</td>\n",
       "      <td>$1814.23</td>\n",
       "      <td>39086.25</td>\n",
       "    </tr>\n",
       "    <tr>\n",
       "      <th>567097</th>\n",
       "      <td>567097</td>\n",
       "      <td>Calendar</td>\n",
       "      <td>2014</td>\n",
       "      <td>Public Protection</td>\n",
       "      <td>FIR Fire Department</td>\n",
       "      <td>Firefighters - Miscellaneous, Local 798</td>\n",
       "      <td>Fire Services</td>\n",
       "      <td>Firefighter</td>\n",
       "      <td>41187</td>\n",
       "      <td>$26189.14</td>\n",
       "      <td>$15816.56</td>\n",
       "      <td>$2102.67</td>\n",
       "      <td>176050.44</td>\n",
       "    </tr>\n",
       "    <tr>\n",
       "      <th>567100</th>\n",
       "      <td>567100</td>\n",
       "      <td>Calendar</td>\n",
       "      <td>2018</td>\n",
       "      <td>Public Protection</td>\n",
       "      <td>NaN</td>\n",
       "      <td>Firefighters,Local 798, Unit 1</td>\n",
       "      <td>Fire Services</td>\n",
       "      <td>EMT/Paramedic/Firefighter</td>\n",
       "      <td>8547769</td>\n",
       "      <td>$0.0</td>\n",
       "      <td>$4617.42</td>\n",
       "      <td>$0.0</td>\n",
       "      <td>0.00</td>\n",
       "    </tr>\n",
       "    <tr>\n",
       "      <th>567101</th>\n",
       "      <td>567101</td>\n",
       "      <td>Calendar</td>\n",
       "      <td>2017</td>\n",
       "      <td>Human Welfare &amp; Neighborhood Development</td>\n",
       "      <td>NaN</td>\n",
       "      <td>SEIU, Local 1021, RN</td>\n",
       "      <td>Nursing</td>\n",
       "      <td>Registered Nurse</td>\n",
       "      <td>8515186</td>\n",
       "      <td>$0.0</td>\n",
       "      <td>$13037.64</td>\n",
       "      <td>$0.0</td>\n",
       "      <td>0.00</td>\n",
       "    </tr>\n",
       "  </tbody>\n",
       "</table>\n",
       "<p>325445 rows × 13 columns</p>\n",
       "</div>"
      ],
      "text/plain": [
       "            Id Year Type  Year                        Organization Group  \\\n",
       "0            0  Calendar  2018                          Community Health   \n",
       "1            1  Calendar  2014   Public Works, Transportation & Commerce   \n",
       "5            5  Calendar  2016                         Public Protection   \n",
       "7            7  Calendar  2016  Human Welfare & Neighborhood Development   \n",
       "8            8  Calendar  2017             General City Responsibilities   \n",
       "...        ...       ...   ...                                       ...   \n",
       "567092  567092  Calendar  2013   Public Works, Transportation & Commerce   \n",
       "567093  567093  Calendar  2018             General City Responsibilities   \n",
       "567097  567097  Calendar  2014                         Public Protection   \n",
       "567100  567100  Calendar  2018                         Public Protection   \n",
       "567101  567101  Calendar  2017  Human Welfare & Neighborhood Development   \n",
       "\n",
       "                           Department  \\\n",
       "0                                 NaN   \n",
       "1       MTA Municipal Transprtn Agncy   \n",
       "5              JUV Juvenile Probation   \n",
       "7           HSA Human Services Agency   \n",
       "8                                 NaN   \n",
       "...                               ...   \n",
       "567092   PUB Public Utilities Bureaus   \n",
       "567093                            NaN   \n",
       "567097            FIR Fire Department   \n",
       "567100                            NaN   \n",
       "567101                            NaN   \n",
       "\n",
       "                                          Union  \\\n",
       "0                     Prof & Tech Eng, Local 21   \n",
       "1              SEIU - Miscellaneous, Local 1021   \n",
       "5              SEIU - Miscellaneous, Local 1021   \n",
       "7              SEIU - Miscellaneous, Local 1021   \n",
       "8                        SEIU, Local 1021, Misc   \n",
       "...                                         ...   \n",
       "567092         SEIU - Miscellaneous, Local 1021   \n",
       "567093                   SEIU, Local 1021, Misc   \n",
       "567097  Firefighters - Miscellaneous, Local 798   \n",
       "567100           Firefighters,Local 798, Unit 1   \n",
       "567101                     SEIU, Local 1021, RN   \n",
       "\n",
       "                           Job Family                            Job  \\\n",
       "0                 Information Systems  IS Business Analyst-Principal   \n",
       "1                 Public Service Aide     Publ Svc Aide-Asst To Prof   \n",
       "5       Clerical, Secretarial & Steno             Transcriber Typist   \n",
       "7                 Public Service Aide         Public Service Trainee   \n",
       "8       Clerical, Secretarial & Steno                    Secretary 2   \n",
       "...                               ...                            ...   \n",
       "567092            Public Service Aide                PS Aide To Prof   \n",
       "567093  Clerical, Secretarial & Steno                Principal Clerk   \n",
       "567097                  Fire Services                    Firefighter   \n",
       "567100                  Fire Services      EMT/Paramedic/Firefighter   \n",
       "567101                        Nursing               Registered Nurse   \n",
       "\n",
       "        Employee Identifier Retirement Health and Dental Other Benefits  \\\n",
       "0                   8594384       $0.0         $13527.66           $0.0   \n",
       "1                     22142       $0.0          $3995.56        $875.27   \n",
       "5                      9836       $0.0            $98.16        $940.57   \n",
       "7                     47063       $0.0          $4721.32        $857.15   \n",
       "8                   8586840       $0.0          $5432.36           $0.0   \n",
       "...                     ...        ...               ...            ...   \n",
       "567092                34121       $0.0          $4760.61       $1147.02   \n",
       "567093              8531376   $4409.63         $24449.54       $1814.23   \n",
       "567097                41187  $26189.14         $15816.56       $2102.67   \n",
       "567100              8547769       $0.0          $4617.42           $0.0   \n",
       "567101              8515186       $0.0         $13037.64           $0.0   \n",
       "\n",
       "        Total Compensation  \n",
       "0                     0.00  \n",
       "1                 16176.35  \n",
       "5                 13333.73  \n",
       "7                 16026.03  \n",
       "8                     0.00  \n",
       "...                    ...  \n",
       "567092            20723.20  \n",
       "567093            39086.25  \n",
       "567097           176050.44  \n",
       "567100                0.00  \n",
       "567101                0.00  \n",
       "\n",
       "[325445 rows x 13 columns]"
      ]
     },
     "execution_count": 4,
     "metadata": {},
     "output_type": "execute_result"
    }
   ],
   "source": [
    "df_train[df_train['Year Type']=='Calendar']"
   ]
  },
  {
   "cell_type": "code",
   "execution_count": 5,
   "metadata": {},
   "outputs": [
    {
     "data": {
      "text/plain": [
       "Id                          0\n",
       "Year Type                   0\n",
       "Year                        0\n",
       "Organization Group          0\n",
       "Department             295065\n",
       "Union                     345\n",
       "Job Family                  0\n",
       "Job                         3\n",
       "Employee Identifier         0\n",
       "Retirement                  0\n",
       "Health and Dental           0\n",
       "Other Benefits              0\n",
       "Total Compensation          0\n",
       "dtype: int64"
      ]
     },
     "execution_count": 5,
     "metadata": {},
     "output_type": "execute_result"
    }
   ],
   "source": [
    "df_train.isnull().sum()"
   ]
  },
  {
   "cell_type": "code",
   "execution_count": 6,
   "metadata": {},
   "outputs": [],
   "source": [
    "df_train.drop([\"Id\",\"Department\",'Job',\"Employee Identifier\"],axis=1,inplace=True)\n",
    "#df_train.drop([\"Id\",\"Department\",'Job',\"Employee Identifier\",\"Other Benefits\"],axis=1,inplace=True)"
   ]
  },
  {
   "cell_type": "code",
   "execution_count": 7,
   "metadata": {},
   "outputs": [
    {
     "data": {
      "text/html": [
       "<div>\n",
       "<style scoped>\n",
       "    .dataframe tbody tr th:only-of-type {\n",
       "        vertical-align: middle;\n",
       "    }\n",
       "\n",
       "    .dataframe tbody tr th {\n",
       "        vertical-align: top;\n",
       "    }\n",
       "\n",
       "    .dataframe thead th {\n",
       "        text-align: right;\n",
       "    }\n",
       "</style>\n",
       "<table border=\"1\" class=\"dataframe\">\n",
       "  <thead>\n",
       "    <tr style=\"text-align: right;\">\n",
       "      <th></th>\n",
       "      <th>Year Type</th>\n",
       "      <th>Year</th>\n",
       "      <th>Organization Group</th>\n",
       "      <th>Union</th>\n",
       "      <th>Job Family</th>\n",
       "      <th>Retirement</th>\n",
       "      <th>Health and Dental</th>\n",
       "      <th>Other Benefits</th>\n",
       "      <th>Total Compensation</th>\n",
       "    </tr>\n",
       "  </thead>\n",
       "  <tbody>\n",
       "    <tr>\n",
       "      <th>0</th>\n",
       "      <td>Calendar</td>\n",
       "      <td>2018</td>\n",
       "      <td>Community Health</td>\n",
       "      <td>Prof &amp; Tech Eng, Local 21</td>\n",
       "      <td>Information Systems</td>\n",
       "      <td>$0.0</td>\n",
       "      <td>$13527.66</td>\n",
       "      <td>$0.0</td>\n",
       "      <td>0.00</td>\n",
       "    </tr>\n",
       "    <tr>\n",
       "      <th>1</th>\n",
       "      <td>Calendar</td>\n",
       "      <td>2014</td>\n",
       "      <td>Public Works, Transportation &amp; Commerce</td>\n",
       "      <td>SEIU - Miscellaneous, Local 1021</td>\n",
       "      <td>Public Service Aide</td>\n",
       "      <td>$0.0</td>\n",
       "      <td>$3995.56</td>\n",
       "      <td>$875.27</td>\n",
       "      <td>16176.35</td>\n",
       "    </tr>\n",
       "    <tr>\n",
       "      <th>2</th>\n",
       "      <td>Fiscal</td>\n",
       "      <td>2018</td>\n",
       "      <td>General City Responsibilities</td>\n",
       "      <td>SEIU, Local 1021, Misc</td>\n",
       "      <td>Payroll, Billing &amp; Accounting</td>\n",
       "      <td>$0.0</td>\n",
       "      <td>$0.0</td>\n",
       "      <td>$0.0</td>\n",
       "      <td>248.30</td>\n",
       "    </tr>\n",
       "    <tr>\n",
       "      <th>3</th>\n",
       "      <td>Fiscal</td>\n",
       "      <td>2015</td>\n",
       "      <td>Community Health</td>\n",
       "      <td>SEIU - Miscellaneous, Local 1021</td>\n",
       "      <td>Purchasing &amp; Storekeeping</td>\n",
       "      <td>$11671.59</td>\n",
       "      <td>$10680.55</td>\n",
       "      <td>$4400.24</td>\n",
       "      <td>80020.86</td>\n",
       "    </tr>\n",
       "    <tr>\n",
       "      <th>4</th>\n",
       "      <td>Fiscal</td>\n",
       "      <td>2014</td>\n",
       "      <td>Community Health</td>\n",
       "      <td>SEIU - Miscellaneous, Local 1021</td>\n",
       "      <td>Hospital Administration</td>\n",
       "      <td>$14617.66</td>\n",
       "      <td>$12464.61</td>\n",
       "      <td>$5562.09</td>\n",
       "      <td>101207.38</td>\n",
       "    </tr>\n",
       "  </tbody>\n",
       "</table>\n",
       "</div>"
      ],
      "text/plain": [
       "  Year Type  Year                       Organization Group  \\\n",
       "0  Calendar  2018                         Community Health   \n",
       "1  Calendar  2014  Public Works, Transportation & Commerce   \n",
       "2    Fiscal  2018            General City Responsibilities   \n",
       "3    Fiscal  2015                         Community Health   \n",
       "4    Fiscal  2014                         Community Health   \n",
       "\n",
       "                              Union                     Job Family Retirement  \\\n",
       "0         Prof & Tech Eng, Local 21            Information Systems       $0.0   \n",
       "1  SEIU - Miscellaneous, Local 1021            Public Service Aide       $0.0   \n",
       "2            SEIU, Local 1021, Misc  Payroll, Billing & Accounting       $0.0   \n",
       "3  SEIU - Miscellaneous, Local 1021      Purchasing & Storekeeping  $11671.59   \n",
       "4  SEIU - Miscellaneous, Local 1021        Hospital Administration  $14617.66   \n",
       "\n",
       "  Health and Dental Other Benefits  Total Compensation  \n",
       "0         $13527.66           $0.0                0.00  \n",
       "1          $3995.56        $875.27            16176.35  \n",
       "2              $0.0           $0.0              248.30  \n",
       "3         $10680.55       $4400.24            80020.86  \n",
       "4         $12464.61       $5562.09           101207.38  "
      ]
     },
     "execution_count": 7,
     "metadata": {},
     "output_type": "execute_result"
    }
   ],
   "source": [
    "df_train.head()"
   ]
  },
  {
   "cell_type": "code",
   "execution_count": 8,
   "metadata": {},
   "outputs": [
    {
     "data": {
      "text/plain": [
       "Year Type               0\n",
       "Year                    0\n",
       "Organization Group      0\n",
       "Union                 345\n",
       "Job Family              0\n",
       "Retirement              0\n",
       "Health and Dental       0\n",
       "Other Benefits          0\n",
       "Total Compensation      0\n",
       "dtype: int64"
      ]
     },
     "execution_count": 8,
     "metadata": {},
     "output_type": "execute_result"
    }
   ],
   "source": [
    "df_train.isnull().sum()"
   ]
  },
  {
   "cell_type": "code",
   "execution_count": 9,
   "metadata": {},
   "outputs": [
    {
     "data": {
      "text/plain": [
       "SEIU, Local 1021, Misc                             112750\n",
       "SEIU - Miscellaneous, Local 1021                    77191\n",
       "Prof & Tech Eng, Local 21                           44686\n",
       "Prof & Tech Engineers - Miscellaneous, Local 21     34860\n",
       "SEIU - Staff and Per Diem Nurses, Local 1021        20507\n",
       "                                                    ...  \n",
       "SEIU - Firefighter Paramedics, Local 1021              21\n",
       "Building Inspects - 6332                               20\n",
       "SEIU, Local 1021, H-1                                  18\n",
       "Municipal Exec Assoc-Misc                              14\n",
       "SF Courts Commissioner Assoc                           13\n",
       "Name: Union, Length: 121, dtype: int64"
      ]
     },
     "execution_count": 9,
     "metadata": {},
     "output_type": "execute_result"
    }
   ],
   "source": [
    "df_train['Union'].value_counts()"
   ]
  },
  {
   "cell_type": "markdown",
   "metadata": {},
   "source": [
    "### Define the following functions as per the description, so that they can be called later to perform the tasks."
   ]
  },
  {
   "cell_type": "code",
   "execution_count": 10,
   "metadata": {},
   "outputs": [
    {
     "data": {
      "text/plain": [
       "Year Type               0\n",
       "Year                    0\n",
       "Organization Group      0\n",
       "Union                 345\n",
       "Job Family              0\n",
       "Retirement              0\n",
       "Health and Dental       0\n",
       "Other Benefits          0\n",
       "Total Compensation      0\n",
       "dtype: int64"
      ]
     },
     "execution_count": 10,
     "metadata": {},
     "output_type": "execute_result"
    }
   ],
   "source": [
    "# to treat missing values\n",
    "\n",
    "def treat_null_values(df):\n",
    "    \"\"\"Treats the missing values in the dataframe.\n",
    "    \n",
    "    This function accepts a dataframe and the method to treat the missing value.\n",
    "    Depending on the method passed, impute/drop the missing values.\n",
    "        \n",
    "    Keyword arguments:\n",
    "    df -- pandas dataframe for which we want to treat the missing values\n",
    "    \"\"\"\n",
    "    df['Union'].fillna(df_train.Union.mode(), inplace=True)\n",
    "treat_null_values(df_train)    \n",
    "df_train.isnull().sum()"
   ]
  },
  {
   "cell_type": "code",
   "execution_count": 11,
   "metadata": {},
   "outputs": [
    {
     "name": "stdout",
     "output_type": "stream",
     "text": [
      "<class 'pandas.core.frame.DataFrame'>\n",
      "RangeIndex: 567103 entries, 0 to 567102\n",
      "Data columns (total 9 columns):\n",
      " #   Column              Non-Null Count   Dtype  \n",
      "---  ------              --------------   -----  \n",
      " 0   Year Type           567103 non-null  object \n",
      " 1   Year                567103 non-null  int64  \n",
      " 2   Organization Group  567103 non-null  object \n",
      " 3   Union               566758 non-null  object \n",
      " 4   Job Family          567103 non-null  object \n",
      " 5   Retirement          567103 non-null  object \n",
      " 6   Health and Dental   567103 non-null  object \n",
      " 7   Other Benefits      567103 non-null  object \n",
      " 8   Total Compensation  567103 non-null  float64\n",
      "dtypes: float64(1), int64(1), object(7)\n",
      "memory usage: 23.8+ MB\n"
     ]
    }
   ],
   "source": [
    "df_train.info()"
   ]
  },
  {
   "cell_type": "markdown",
   "metadata": {},
   "source": [
    "### Visualize the data\n",
    "\n",
    "- Check for the categorical & continuous features. \n",
    "- Check out the best plots for plotting between categorical target and continuous features and try making some inferences from these plots.\n",
    "- Clean the data and apply some data preprocessing techniques"
   ]
  },
  {
   "cell_type": "code",
   "execution_count": 12,
   "metadata": {},
   "outputs": [
    {
     "name": "stdout",
     "output_type": "stream",
     "text": [
      "Index(['Year', 'Total Compensation'], dtype='object')\n",
      "Index(['Year Type', 'Organization Group', 'Union', 'Job Family', 'Retirement',\n",
      "       'Health and Dental', 'Other Benefits'],\n",
      "      dtype='object')\n"
     ]
    }
   ],
   "source": [
    "\n",
    "# to seperate the numerical and categorical columns\n",
    "\n",
    "def num_and_cat_columns(df):\n",
    "    \"\"\"Return seperate list of numerical & categorical columns.\n",
    "    \n",
    "    This function accepts a dataframe and returns two lists,\n",
    "    one containing the names of numerical columns(num_cols) and the other categorical columns(cat_cols).\n",
    "        \n",
    "    Keyword arguments:\n",
    "    df -- pandas dataframe for which we want the list of columns\n",
    "    \n",
    "    Returns:\n",
    "    num_cols -- list of numerical columns\n",
    "    cat_cols -- list of categorical columns\n",
    "    \"\"\"\n",
    "    num_cols=df.select_dtypes(include=np.number).columns\n",
    "    cat_cols=df.select_dtypes(exclude=np.number).columns\n",
    "    return num_cols,cat_cols\n",
    "num_cols,cat_cols=num_and_cat_columns(df_train)    \n",
    "print(num_cols)\n",
    "print(cat_cols)\n",
    "    \n",
    "    "
   ]
  },
  {
   "cell_type": "code",
   "execution_count": 13,
   "metadata": {},
   "outputs": [
    {
     "name": "stdout",
     "output_type": "stream",
     "text": [
      "<class 'pandas.core.frame.DataFrame'>\n",
      "RangeIndex: 567103 entries, 0 to 567102\n",
      "Data columns (total 9 columns):\n",
      " #   Column              Non-Null Count   Dtype  \n",
      "---  ------              --------------   -----  \n",
      " 0   Year Type           567103 non-null  object \n",
      " 1   Year                567103 non-null  int64  \n",
      " 2   Organization Group  567103 non-null  object \n",
      " 3   Union               566758 non-null  object \n",
      " 4   Job Family          567103 non-null  object \n",
      " 5   Retirement          567103 non-null  object \n",
      " 6   Health and Dental   567103 non-null  object \n",
      " 7   Other Benefits      567103 non-null  object \n",
      " 8   Total Compensation  567103 non-null  float64\n",
      "dtypes: float64(1), int64(1), object(7)\n",
      "memory usage: 23.8+ MB\n"
     ]
    }
   ],
   "source": [
    "df_train.info()"
   ]
  },
  {
   "cell_type": "code",
   "execution_count": 14,
   "metadata": {},
   "outputs": [
    {
     "data": {
      "text/html": [
       "<div>\n",
       "<style scoped>\n",
       "    .dataframe tbody tr th:only-of-type {\n",
       "        vertical-align: middle;\n",
       "    }\n",
       "\n",
       "    .dataframe tbody tr th {\n",
       "        vertical-align: top;\n",
       "    }\n",
       "\n",
       "    .dataframe thead th {\n",
       "        text-align: right;\n",
       "    }\n",
       "</style>\n",
       "<table border=\"1\" class=\"dataframe\">\n",
       "  <thead>\n",
       "    <tr style=\"text-align: right;\">\n",
       "      <th></th>\n",
       "      <th>Year Type</th>\n",
       "      <th>Year</th>\n",
       "      <th>Organization Group</th>\n",
       "      <th>Union</th>\n",
       "      <th>Job Family</th>\n",
       "      <th>Retirement</th>\n",
       "      <th>Health and Dental</th>\n",
       "      <th>Other Benefits</th>\n",
       "      <th>Total Compensation</th>\n",
       "    </tr>\n",
       "  </thead>\n",
       "  <tbody>\n",
       "    <tr>\n",
       "      <th>0</th>\n",
       "      <td>Calendar</td>\n",
       "      <td>2018</td>\n",
       "      <td>Community Health</td>\n",
       "      <td>Prof &amp; Tech Eng, Local 21</td>\n",
       "      <td>Information Systems</td>\n",
       "      <td>$0.0</td>\n",
       "      <td>$13527.66</td>\n",
       "      <td>$0.0</td>\n",
       "      <td>0.00</td>\n",
       "    </tr>\n",
       "    <tr>\n",
       "      <th>1</th>\n",
       "      <td>Calendar</td>\n",
       "      <td>2014</td>\n",
       "      <td>Public Works, Transportation &amp; Commerce</td>\n",
       "      <td>SEIU - Miscellaneous, Local 1021</td>\n",
       "      <td>Public Service Aide</td>\n",
       "      <td>$0.0</td>\n",
       "      <td>$3995.56</td>\n",
       "      <td>$875.27</td>\n",
       "      <td>16176.35</td>\n",
       "    </tr>\n",
       "    <tr>\n",
       "      <th>2</th>\n",
       "      <td>Fiscal</td>\n",
       "      <td>2018</td>\n",
       "      <td>General City Responsibilities</td>\n",
       "      <td>SEIU, Local 1021, Misc</td>\n",
       "      <td>Payroll, Billing &amp; Accounting</td>\n",
       "      <td>$0.0</td>\n",
       "      <td>$0.0</td>\n",
       "      <td>$0.0</td>\n",
       "      <td>248.30</td>\n",
       "    </tr>\n",
       "    <tr>\n",
       "      <th>3</th>\n",
       "      <td>Fiscal</td>\n",
       "      <td>2015</td>\n",
       "      <td>Community Health</td>\n",
       "      <td>SEIU - Miscellaneous, Local 1021</td>\n",
       "      <td>Purchasing &amp; Storekeeping</td>\n",
       "      <td>$11671.59</td>\n",
       "      <td>$10680.55</td>\n",
       "      <td>$4400.24</td>\n",
       "      <td>80020.86</td>\n",
       "    </tr>\n",
       "    <tr>\n",
       "      <th>4</th>\n",
       "      <td>Fiscal</td>\n",
       "      <td>2014</td>\n",
       "      <td>Community Health</td>\n",
       "      <td>SEIU - Miscellaneous, Local 1021</td>\n",
       "      <td>Hospital Administration</td>\n",
       "      <td>$14617.66</td>\n",
       "      <td>$12464.61</td>\n",
       "      <td>$5562.09</td>\n",
       "      <td>101207.38</td>\n",
       "    </tr>\n",
       "  </tbody>\n",
       "</table>\n",
       "</div>"
      ],
      "text/plain": [
       "  Year Type  Year                       Organization Group  \\\n",
       "0  Calendar  2018                         Community Health   \n",
       "1  Calendar  2014  Public Works, Transportation & Commerce   \n",
       "2    Fiscal  2018            General City Responsibilities   \n",
       "3    Fiscal  2015                         Community Health   \n",
       "4    Fiscal  2014                         Community Health   \n",
       "\n",
       "                              Union                     Job Family Retirement  \\\n",
       "0         Prof & Tech Eng, Local 21            Information Systems       $0.0   \n",
       "1  SEIU - Miscellaneous, Local 1021            Public Service Aide       $0.0   \n",
       "2            SEIU, Local 1021, Misc  Payroll, Billing & Accounting       $0.0   \n",
       "3  SEIU - Miscellaneous, Local 1021      Purchasing & Storekeeping  $11671.59   \n",
       "4  SEIU - Miscellaneous, Local 1021        Hospital Administration  $14617.66   \n",
       "\n",
       "  Health and Dental Other Benefits  Total Compensation  \n",
       "0         $13527.66           $0.0                0.00  \n",
       "1          $3995.56        $875.27            16176.35  \n",
       "2              $0.0           $0.0              248.30  \n",
       "3         $10680.55       $4400.24            80020.86  \n",
       "4         $12464.61       $5562.09           101207.38  "
      ]
     },
     "execution_count": 14,
     "metadata": {},
     "output_type": "execute_result"
    }
   ],
   "source": [
    "df_train.head()"
   ]
  },
  {
   "cell_type": "code",
   "execution_count": 15,
   "metadata": {},
   "outputs": [
    {
     "data": {
      "text/plain": [
       "(567103, 9)"
      ]
     },
     "execution_count": 15,
     "metadata": {},
     "output_type": "execute_result"
    }
   ],
   "source": [
    "df_train.shape"
   ]
  },
  {
   "cell_type": "code",
   "execution_count": 16,
   "metadata": {},
   "outputs": [
    {
     "data": {
      "text/plain": [
       "Year Type             0\n",
       "Year                  0\n",
       "Organization Group    0\n",
       "Union                 0\n",
       "Job Family            0\n",
       "Retirement            0\n",
       "Health and Dental     0\n",
       "Other Benefits        0\n",
       "Total Compensation    0\n",
       "dtype: int64"
      ]
     },
     "execution_count": 16,
     "metadata": {},
     "output_type": "execute_result"
    }
   ],
   "source": [
    "# to encode the categorical column so as to convert them to numeric.\n",
    "from sklearn.preprocessing import LabelEncoder\n",
    "le=LabelEncoder()  \n",
    "df_train['Union']=df_train['Union'].astype('str')\n",
    "def encode_category(df, enc, col):\n",
    "    \"\"\"Encodes the categorical columns of the dataframe.\n",
    "    \n",
    "    This function accepts a dataframe and columns to be encoded along with the method to be used for encoding.\n",
    "        \n",
    "    Keyword arguments:\n",
    "    df -- pandas dataframe for which we want to encode the columns -- this dataframe would be transformed\n",
    "    enc -- the encoder - fitted on the train data\n",
    "    col -- list of columns that is to be encoded\n",
    "    \n",
    "    \n",
    "    Returns:\n",
    "    df1 -- the encoded dataframe\n",
    "    \"\"\"\n",
    "    for i in range(len(col)):\n",
    "        enc.fit(df[col[i]])\n",
    "        df[col[i]]=enc.transform(df[col[i]])\n",
    "        \n",
    "encode_category(df_train,le,['Year','Year Type','Union','Organization Group', 'Job Family']) \n",
    "\n",
    "\n",
    "#encode_category(df_train, enc,'Union', method)    \n",
    "#encode_category(df_train, enc, 'Job Family', method)    \n",
    "#encode_category(df_train, enc,'Job', method)    \n",
    "df_train.head()\n",
    "df_train.isnull().sum()"
   ]
  },
  {
   "cell_type": "raw",
   "metadata": {},
   "source": [
    "df_train = pd.concat([pd.get_dummies(df_train['Organization Group']), df_train], axis = 1)\n",
    "df_train = pd.concat([pd.get_dummies(df_train['Job Family']),df_train], axis = 1)\n",
    "df_train = pd.concat([pd.get_dummies(df_train['Union']), df_train], axis = 1)\n",
    "df_train = pd.concat([pd.get_dummies(df_train['Year']), df_train], axis = 1)\n",
    "df_train= pd.concat([pd.get_dummies(df_train['Year Type']),df_train], axis = 1)\n",
    "\n",
    "df_train.drop(['Year', 'Organization Group','Union','Job Family','Year Type'],axis = 1, inplace = True)\n"
   ]
  },
  {
   "cell_type": "code",
   "execution_count": null,
   "metadata": {},
   "outputs": [],
   "source": []
  },
  {
   "cell_type": "code",
   "execution_count": 17,
   "metadata": {},
   "outputs": [
    {
     "data": {
      "text/plain": [
       "Year Type             0\n",
       "Year                  0\n",
       "Organization Group    0\n",
       "Union                 0\n",
       "Job Family            0\n",
       "Retirement            0\n",
       "Health and Dental     0\n",
       "Other Benefits        0\n",
       "Total Compensation    0\n",
       "dtype: int64"
      ]
     },
     "execution_count": 17,
     "metadata": {},
     "output_type": "execute_result"
    }
   ],
   "source": [
    "# to clean the dollar sign from the currency column & convert it to float.\n",
    "    \n",
    "def clean_dollar(df, col):\n",
    "    \"\"\"Removes \"$\" sign from a column & converts it to float.\n",
    "    \n",
    "    This function accepts a dataframe and columns with $ sign to be converted to float.\n",
    "        \n",
    "    Keyword arguments:\n",
    "    df -- pandas dataframe for which we want to encode the columns\n",
    "    col -- list of columns that is to be converted\n",
    "    \n",
    "    Returns:\n",
    "    df -- the converted dataframe\n",
    "    \"\"\"\n",
    "    for i in range(len(col)):\n",
    "        df[col[i]]=df[col[i]].astype(str).str.replace(\"$\",\"\") \n",
    "        df[col[i]]=df[col[i]].astype(float)\n",
    "clean_dollar(df_train,['Retirement', 'Health and Dental', 'Other Benefits']) \n",
    "#clean_dollar(df_train,['Retirement', 'Health and Dental'])    \n",
    "\n",
    "df_train.head()   \n",
    "df_train.isnull().sum()"
   ]
  },
  {
   "cell_type": "code",
   "execution_count": 18,
   "metadata": {},
   "outputs": [
    {
     "data": {
      "image/png": "[encoded data removed]",
      "text/plain": [
       "<Figure size 432x288 with 1 Axes>"
      ]
     },
     "metadata": {
      "needs_background": "light"
     },
     "output_type": "display_data"
    },
    {
     "data": {
      "image/png": "[encoded data removed]",
      "text/plain": [
       "<Figure size 432x288 with 1 Axes>"
      ]
     },
     "metadata": {
      "needs_background": "light"
     },
     "output_type": "display_data"
    },
    {
     "data": {
      "image/png": "[encoded data removed]",
      "text/plain": [
       "<Figure size 432x288 with 1 Axes>"
      ]
     },
     "metadata": {
      "needs_background": "light"
     },
     "output_type": "display_data"
    },
    {
     "data": {
      "image/png": "[encoded data removed]",
      "text/plain": [
       "<Figure size 432x288 with 1 Axes>"
      ]
     },
     "metadata": {
      "needs_background": "light"
     },
     "output_type": "display_data"
    },
    {
     "data": {
      "text/plain": [
       "Year Type             0\n",
       "Year                  0\n",
       "Organization Group    0\n",
       "Union                 0\n",
       "Job Family            0\n",
       "Retirement            0\n",
       "Health and Dental     0\n",
       "Other Benefits        0\n",
       "Total Compensation    0\n",
       "dtype: int64"
      ]
     },
     "execution_count": 18,
     "metadata": {},
     "output_type": "execute_result"
    }
   ],
   "source": [
    "# to visualize distributions of the column(s) by plotting them.\n",
    "import matplotlib.pyplot as plt    \n",
    "def plot_distribution(kind_, df, col):\n",
    "    \"\"\"Plot distribution of the column(s).\n",
    "    \n",
    "    This function will plot a chart of the passed column as the 'kind' specified in kind_.\n",
    "    You can pass multiple columns to this function.\n",
    "        \n",
    "    Keyword arguments:\n",
    "    knid_ -- 'kind' of chart that will be plotted\n",
    "    df -- pandas dataframe which has the data\n",
    "    col -- list of all the features for which we want to plot the distribution\n",
    "    \"\"\"\n",
    "    df[col].plot(kind=kind_)\n",
    "    plt.xlabel(col)\n",
    "    plt.show()\n",
    "plot_distribution(\"hist\", df_train, 'Retirement')\n",
    "plot_distribution(\"hist\", df_train, 'Health and Dental')\n",
    "plot_distribution(\"hist\", df_train,  'Other Benefits')\n",
    "plot_distribution(\"hist\", df_train,  'Total Compensation')\n",
    "df_train.isnull().sum()\n"
   ]
  },
  {
   "cell_type": "code",
   "execution_count": 19,
   "metadata": {},
   "outputs": [
    {
     "data": {
      "text/html": [
       "<div>\n",
       "<style scoped>\n",
       "    .dataframe tbody tr th:only-of-type {\n",
       "        vertical-align: middle;\n",
       "    }\n",
       "\n",
       "    .dataframe tbody tr th {\n",
       "        vertical-align: top;\n",
       "    }\n",
       "\n",
       "    .dataframe thead th {\n",
       "        text-align: right;\n",
       "    }\n",
       "</style>\n",
       "<table border=\"1\" class=\"dataframe\">\n",
       "  <thead>\n",
       "    <tr style=\"text-align: right;\">\n",
       "      <th></th>\n",
       "      <th>Year Type</th>\n",
       "      <th>Year</th>\n",
       "      <th>Organization Group</th>\n",
       "      <th>Union</th>\n",
       "      <th>Job Family</th>\n",
       "      <th>Retirement</th>\n",
       "      <th>Health and Dental</th>\n",
       "      <th>Other Benefits</th>\n",
       "      <th>Total Compensation</th>\n",
       "    </tr>\n",
       "  </thead>\n",
       "  <tbody>\n",
       "    <tr>\n",
       "      <th>0</th>\n",
       "      <td>0</td>\n",
       "      <td>5</td>\n",
       "      <td>0</td>\n",
       "      <td>78</td>\n",
       "      <td>23</td>\n",
       "      <td>0.00</td>\n",
       "      <td>13527.66</td>\n",
       "      <td>0.00</td>\n",
       "      <td>0.00</td>\n",
       "    </tr>\n",
       "    <tr>\n",
       "      <th>1</th>\n",
       "      <td>0</td>\n",
       "      <td>1</td>\n",
       "      <td>6</td>\n",
       "      <td>90</td>\n",
       "      <td>46</td>\n",
       "      <td>0.00</td>\n",
       "      <td>3995.56</td>\n",
       "      <td>875.27</td>\n",
       "      <td>16176.35</td>\n",
       "    </tr>\n",
       "    <tr>\n",
       "      <th>2</th>\n",
       "      <td>1</td>\n",
       "      <td>5</td>\n",
       "      <td>3</td>\n",
       "      <td>93</td>\n",
       "      <td>35</td>\n",
       "      <td>0.00</td>\n",
       "      <td>0.00</td>\n",
       "      <td>0.00</td>\n",
       "      <td>248.30</td>\n",
       "    </tr>\n",
       "    <tr>\n",
       "      <th>3</th>\n",
       "      <td>1</td>\n",
       "      <td>2</td>\n",
       "      <td>0</td>\n",
       "      <td>90</td>\n",
       "      <td>47</td>\n",
       "      <td>11671.59</td>\n",
       "      <td>10680.55</td>\n",
       "      <td>4400.24</td>\n",
       "      <td>80020.86</td>\n",
       "    </tr>\n",
       "    <tr>\n",
       "      <th>4</th>\n",
       "      <td>1</td>\n",
       "      <td>1</td>\n",
       "      <td>0</td>\n",
       "      <td>90</td>\n",
       "      <td>20</td>\n",
       "      <td>14617.66</td>\n",
       "      <td>12464.61</td>\n",
       "      <td>5562.09</td>\n",
       "      <td>101207.38</td>\n",
       "    </tr>\n",
       "  </tbody>\n",
       "</table>\n",
       "</div>"
      ],
      "text/plain": [
       "   Year Type  Year  Organization Group  Union  Job Family  Retirement  \\\n",
       "0          0     5                   0     78          23        0.00   \n",
       "1          0     1                   6     90          46        0.00   \n",
       "2          1     5                   3     93          35        0.00   \n",
       "3          1     2                   0     90          47    11671.59   \n",
       "4          1     1                   0     90          20    14617.66   \n",
       "\n",
       "   Health and Dental  Other Benefits  Total Compensation  \n",
       "0           13527.66            0.00                0.00  \n",
       "1            3995.56          875.27            16176.35  \n",
       "2               0.00            0.00              248.30  \n",
       "3           10680.55         4400.24            80020.86  \n",
       "4           12464.61         5562.09           101207.38  "
      ]
     },
     "execution_count": 19,
     "metadata": {},
     "output_type": "execute_result"
    }
   ],
   "source": [
    "df_train.head()"
   ]
  },
  {
   "cell_type": "code",
   "execution_count": 20,
   "metadata": {},
   "outputs": [
    {
     "data": {
      "text/plain": [
       "Year Type             0\n",
       "Year                  0\n",
       "Organization Group    0\n",
       "Union                 0\n",
       "Job Family            0\n",
       "Retirement            0\n",
       "Health and Dental     0\n",
       "Other Benefits        0\n",
       "Total Compensation    0\n",
       "dtype: int64"
      ]
     },
     "execution_count": 20,
     "metadata": {},
     "output_type": "execute_result"
    }
   ],
   "source": [
    "from sklearn.preprocessing import MinMaxScaler\n",
    "from sklearn.preprocessing import StandardScaler\n",
    "scaler=MinMaxScaler()\n",
    "scaler1=StandardScaler()\n",
    "#Transform on training data with columns of interest\n",
    "def sqrt_trans(df,col):\n",
    "    lst = []\n",
    "    for i in df[col]:\n",
    "        if i < 0:\n",
    "            #temp = np.sqrt(abs(i))\n",
    "            lst.append(-np.sqrt(abs(i)))\n",
    "        else:\n",
    "            #temp = np.sqrt(i)\n",
    "            lst.append(np.sqrt(i))\n",
    "    df.loc[:,col] = lst\n",
    "sqrt_trans(df_train,'Total Compensation')\n",
    "sqrt_trans(df_train,'Retirement')\n",
    "sqrt_trans(df_train,'Health and Dental')\n",
    "sqrt_trans(df_train,'Other Benefits')\n",
    "df_train.isnull().sum()    \n"
   ]
  },
  {
   "cell_type": "code",
   "execution_count": 21,
   "metadata": {},
   "outputs": [
    {
     "data": {
      "text/html": [
       "<div>\n",
       "<style scoped>\n",
       "    .dataframe tbody tr th:only-of-type {\n",
       "        vertical-align: middle;\n",
       "    }\n",
       "\n",
       "    .dataframe tbody tr th {\n",
       "        vertical-align: top;\n",
       "    }\n",
       "\n",
       "    .dataframe thead th {\n",
       "        text-align: right;\n",
       "    }\n",
       "</style>\n",
       "<table border=\"1\" class=\"dataframe\">\n",
       "  <thead>\n",
       "    <tr style=\"text-align: right;\">\n",
       "      <th></th>\n",
       "      <th>Year Type</th>\n",
       "      <th>Year</th>\n",
       "      <th>Organization Group</th>\n",
       "      <th>Union</th>\n",
       "      <th>Job Family</th>\n",
       "      <th>Retirement</th>\n",
       "      <th>Health and Dental</th>\n",
       "      <th>Other Benefits</th>\n",
       "      <th>Total Compensation</th>\n",
       "    </tr>\n",
       "  </thead>\n",
       "  <tbody>\n",
       "    <tr>\n",
       "      <th>0</th>\n",
       "      <td>0</td>\n",
       "      <td>5</td>\n",
       "      <td>0</td>\n",
       "      <td>78</td>\n",
       "      <td>23</td>\n",
       "      <td>0.000000</td>\n",
       "      <td>116.308469</td>\n",
       "      <td>0.000000</td>\n",
       "      <td>0.000000</td>\n",
       "    </tr>\n",
       "    <tr>\n",
       "      <th>1</th>\n",
       "      <td>0</td>\n",
       "      <td>1</td>\n",
       "      <td>6</td>\n",
       "      <td>90</td>\n",
       "      <td>46</td>\n",
       "      <td>0.000000</td>\n",
       "      <td>63.210442</td>\n",
       "      <td>29.584962</td>\n",
       "      <td>127.186281</td>\n",
       "    </tr>\n",
       "    <tr>\n",
       "      <th>2</th>\n",
       "      <td>1</td>\n",
       "      <td>5</td>\n",
       "      <td>3</td>\n",
       "      <td>93</td>\n",
       "      <td>35</td>\n",
       "      <td>0.000000</td>\n",
       "      <td>0.000000</td>\n",
       "      <td>0.000000</td>\n",
       "      <td>15.757538</td>\n",
       "    </tr>\n",
       "    <tr>\n",
       "      <th>3</th>\n",
       "      <td>1</td>\n",
       "      <td>2</td>\n",
       "      <td>0</td>\n",
       "      <td>90</td>\n",
       "      <td>47</td>\n",
       "      <td>108.035133</td>\n",
       "      <td>103.346746</td>\n",
       "      <td>66.334305</td>\n",
       "      <td>282.879586</td>\n",
       "    </tr>\n",
       "    <tr>\n",
       "      <th>4</th>\n",
       "      <td>1</td>\n",
       "      <td>1</td>\n",
       "      <td>0</td>\n",
       "      <td>90</td>\n",
       "      <td>20</td>\n",
       "      <td>120.903515</td>\n",
       "      <td>111.645018</td>\n",
       "      <td>74.579421</td>\n",
       "      <td>318.131074</td>\n",
       "    </tr>\n",
       "  </tbody>\n",
       "</table>\n",
       "</div>"
      ],
      "text/plain": [
       "   Year Type  Year  Organization Group  Union  Job Family  Retirement  \\\n",
       "0          0     5                   0     78          23    0.000000   \n",
       "1          0     1                   6     90          46    0.000000   \n",
       "2          1     5                   3     93          35    0.000000   \n",
       "3          1     2                   0     90          47  108.035133   \n",
       "4          1     1                   0     90          20  120.903515   \n",
       "\n",
       "   Health and Dental  Other Benefits  Total Compensation  \n",
       "0         116.308469        0.000000            0.000000  \n",
       "1          63.210442       29.584962          127.186281  \n",
       "2           0.000000        0.000000           15.757538  \n",
       "3         103.346746       66.334305          282.879586  \n",
       "4         111.645018       74.579421          318.131074  "
      ]
     },
     "execution_count": 21,
     "metadata": {},
     "output_type": "execute_result"
    }
   ],
   "source": [
    "df_train.head()"
   ]
  },
  {
   "cell_type": "code",
   "execution_count": 22,
   "metadata": {},
   "outputs": [
    {
     "data": {
      "image/png": "[encoded data removed]",
      "text/plain": [
       "<Figure size 432x288 with 1 Axes>"
      ]
     },
     "metadata": {
      "needs_background": "light"
     },
     "output_type": "display_data"
    },
    {
     "data": {
      "image/png": "[encoded data removed]",
      "text/plain": [
       "<Figure size 432x288 with 1 Axes>"
      ]
     },
     "metadata": {
      "needs_background": "light"
     },
     "output_type": "display_data"
    },
    {
     "data": {
      "image/png": "[encoded data removed]",
      "text/plain": [
       "<Figure size 432x288 with 1 Axes>"
      ]
     },
     "metadata": {
      "needs_background": "light"
     },
     "output_type": "display_data"
    },
    {
     "data": {
      "image/png": "[encoded data removed]",
      "text/plain": [
       "<Figure size 432x288 with 1 Axes>"
      ]
     },
     "metadata": {
      "needs_background": "light"
     },
     "output_type": "display_data"
    }
   ],
   "source": [
    "import matplotlib.pyplot as plt    \n",
    "def plot_distribution(kind_, df, col):\n",
    "    \"\"\"Plot distribution of the column(s).\n",
    "    \n",
    "    This function will plot a chart of the passed column as the 'kind' specified in kind_.\n",
    "    You can pass multiple columns to this function.\n",
    "        \n",
    "    Keyword arguments:\n",
    "    knid_ -- 'kind' of chart that will be plotted\n",
    "    df -- pandas dataframe which has the data\n",
    "    col -- list of all the features for which we want to plot the distribution\n",
    "    \"\"\"\n",
    "    df[col].plot(kind=kind_)\n",
    "    plt.xlabel(col)\n",
    "    plt.show()\n",
    "plot_distribution(\"hist\", df_train, 'Retirement')\n",
    "plot_distribution(\"hist\", df_train, 'Health and Dental')\n",
    "plot_distribution(\"hist\", df_train,  'Other Benefits')\n",
    "plot_distribution(\"hist\", df_train,  'Total Compensation')"
   ]
  },
  {
   "cell_type": "code",
   "execution_count": 23,
   "metadata": {},
   "outputs": [
    {
     "data": {
      "image/png": "[encoded data removed]",
      "text/plain": [
       "<Figure size 432x288 with 1 Axes>"
      ]
     },
     "metadata": {
      "needs_background": "light"
     },
     "output_type": "display_data"
    },
    {
     "data": {
      "image/png": "[encoded data removed]",
      "text/plain": [
       "<Figure size 432x288 with 1 Axes>"
      ]
     },
     "metadata": {
      "needs_background": "light"
     },
     "output_type": "display_data"
    },
    {
     "data": {
      "image/png": "[encoded data removed]",
      "text/plain": [
       "<Figure size 432x288 with 1 Axes>"
      ]
     },
     "metadata": {
      "needs_background": "light"
     },
     "output_type": "display_data"
    },
    {
     "data": {
      "image/png": "[encoded data removed]",
      "text/plain": [
       "<Figure size 432x288 with 1 Axes>"
      ]
     },
     "metadata": {
      "needs_background": "light"
     },
     "output_type": "display_data"
    }
   ],
   "source": [
    "# to check outliers using box plot\n",
    "import seaborn as sns\n",
    "def check_outliers(df, col):\n",
    "    \"\"\"Check outliers through boxplot.\n",
    "    \n",
    "    This function plots and displays the boxplot of the feature col vs all the categories defined. \n",
    "    Check for any outlier present.\n",
    "        \n",
    "    Keyword arguments:\n",
    "    df -- pandas dataframe which has the data\n",
    "    col -- the feature for which we want to plot the boxplot\n",
    "    cat -- the list of features (categorical) by which we want to check the outliers (for each category in each feature)\n",
    "    \"\"\"\n",
    "    for i in range(len(col)):\n",
    "        sns.boxplot(df[col[i]])\n",
    "        plt.show()\n",
    "check_outliers(df_train,['Retirement', 'Health and Dental','Other Benefits','Total Compensation'])    \n",
    "#check_outliers(df_train,['Retirement', 'Health and Dental','Total Compensation'])    \n",
    "\n"
   ]
  },
  {
   "cell_type": "code",
   "execution_count": 24,
   "metadata": {},
   "outputs": [],
   "source": [
    "df_train=df_train[(df_train['Other Benefits']> -70) & (df_train['Other Benefits']<190)]"
   ]
  },
  {
   "cell_type": "code",
   "execution_count": 25,
   "metadata": {},
   "outputs": [],
   "source": [
    "df_train=df_train[df_train['Total Compensation']<780]"
   ]
  },
  {
   "cell_type": "code",
   "execution_count": 26,
   "metadata": {},
   "outputs": [],
   "source": [
    "df_train=df_train[df_train['Retirement']<300]"
   ]
  },
  {
   "cell_type": "code",
   "execution_count": 27,
   "metadata": {},
   "outputs": [
    {
     "data": {
      "text/plain": [
       "(566991, 9)"
      ]
     },
     "execution_count": 27,
     "metadata": {},
     "output_type": "execute_result"
    }
   ],
   "source": [
    "df_train.shape"
   ]
  },
  {
   "cell_type": "markdown",
   "metadata": {},
   "source": [
    "### Model building\n",
    "\n",
    "- Separate the features and target.\n",
    "- Now let's come to the actual task, using linear regression, predict the `Total Compensation`. Use different techniques you have learned to imporove the performance of the model.\n",
    "- Try improving upon the `r2_score` (R-Square) using different parameters that give the best score. Call the `fit_model()` with respective parameters.\n",
    "\n"
   ]
  },
  {
   "cell_type": "raw",
   "metadata": {},
   "source": [
    "# Code Starts here\n",
    "#validation\n",
    "train=df_train.iloc[:400000,:]\n",
    "validation=df_train.iloc[400001:,:]\n",
    "train.shape\n",
    "validation.shape"
   ]
  },
  {
   "cell_type": "code",
   "execution_count": 42,
   "metadata": {},
   "outputs": [
    {
     "data": {
      "text/plain": [
       "Year Type             0\n",
       "Year                  0\n",
       "Organization Group    0\n",
       "Union                 0\n",
       "Job Family            0\n",
       "Retirement            0\n",
       "Health and Dental     0\n",
       "Other Benefits        0\n",
       "dtype: int64"
      ]
     },
     "execution_count": 42,
     "metadata": {},
     "output_type": "execute_result"
    }
   ],
   "source": [
    "#X=train.drop('Total Compensation',axis=1)\n",
    "#y=train['Total Compensation']\n",
    "\n",
    "X=df_train.drop('Total Compensation',axis=1)\n",
    "y=df_train['Total Compensation']\n",
    "\n",
    "X_train,X_test,y_train,y_test=train_test_split(X,y,test_size=0.3,random_state=6)\n",
    "# Code ends here\n",
    "X_train.isnull().sum()"
   ]
  },
  {
   "cell_type": "code",
   "execution_count": 43,
   "metadata": {},
   "outputs": [
    {
     "name": "stdout",
     "output_type": "stream",
     "text": [
      "0.9380536867605496\n"
     ]
    }
   ],
   "source": [
    "regressor = LinearRegression()\n",
    "regressor.fit(X_train,y_train)\n",
    "y_pred = regressor.predict(X_test)\n",
    "score = r2_score(y_test,y_pred)\n",
    "print(score)"
   ]
  },
  {
   "cell_type": "code",
   "execution_count": 44,
   "metadata": {},
   "outputs": [
    {
     "name": "stdout",
     "output_type": "stream",
     "text": [
      "0.9793913636067235\n"
     ]
    }
   ],
   "source": [
    "from sklearn.preprocessing import PolynomialFeatures\n",
    "from sklearn.pipeline import make_pipeline\n",
    "# make pipeline for second degree polynomialfeatures\n",
    "model = make_pipeline(PolynomialFeatures(2), LinearRegression())\n",
    "\n",
    "# Fit the model on training set\n",
    "model.fit(X_train, y_train)\n",
    "\n",
    "# predict the model performance\n",
    "y_pred = model.predict(X_test)\n",
    "\n",
    "# calculate r2 score\n",
    "r2_poly= r2_score(y_test,y_pred)\n",
    "\n",
    "# print r2 score\n",
    "print(r2_poly)"
   ]
  },
  {
   "cell_type": "code",
   "execution_count": 45,
   "metadata": {},
   "outputs": [
    {
     "data": {
      "text/plain": [
       "0.9378190786093882"
      ]
     },
     "execution_count": 45,
     "metadata": {},
     "output_type": "execute_result"
    }
   ],
   "source": [
    "lasso = Lasso()\n",
    "lasso.fit(X_train,y_train)\n",
    "\n",
    "pred_lasso = lasso.predict(X_test)\n",
    "\n",
    "score_lasso = r2_score(y_test,pred_lasso)\n",
    "score_lasso"
   ]
  },
  {
   "cell_type": "code",
   "execution_count": 46,
   "metadata": {},
   "outputs": [
    {
     "data": {
      "text/plain": [
       "0.9380536865689881"
      ]
     },
     "execution_count": 46,
     "metadata": {},
     "output_type": "execute_result"
    }
   ],
   "source": [
    "ridge = Ridge()\n",
    "ridge.fit(X_train,y_train)\n",
    "\n",
    "pred_ridge = ridge.predict(X_test)\n",
    "\n",
    "score_ridge = r2_score(y_test,pred_ridge)\n",
    "score_ridge"
   ]
  },
  {
   "cell_type": "raw",
   "metadata": {},
   "source": [
    "X1=validation.drop('Total Compensation',axis=1)\n",
    "y1=validation['Total Compensation']\n",
    "validation_pred=regressor.predict(X1)\n",
    "validation_pred\n",
    "\n"
   ]
  },
  {
   "cell_type": "markdown",
   "metadata": {},
   "source": [
    "lst = []\n",
    "for i in validation_pred:\n",
    "    if i < 0:\n",
    "        lst.append(-(i**2))\n",
    "    else:\n",
    "        lst.append(i**2)\n",
    "\n",
    "rescaled_pred = np.array(lst)\n",
    "rescaled_pred"
   ]
  },
  {
   "cell_type": "raw",
   "metadata": {},
   "source": [
    "validation_val = r2_score(y1,validation_pred)\n",
    "validation_val"
   ]
  },
  {
   "cell_type": "markdown",
   "metadata": {},
   "source": [
    "### Prediction on the test data and creating the sample submission file.\n",
    "\n",
    "- Load the test data and store the `Id` column in a separate variable.\n",
    "- Perform the same operations on the test data that you have performed on the train data.\n",
    "- Create the submission file as a `csv` file consisting of the `Id` column from the test data and your prediction as the second column."
   ]
  },
  {
   "cell_type": "code",
   "execution_count": 47,
   "metadata": {},
   "outputs": [
    {
     "data": {
      "text/plain": [
       "(177220, 12)"
      ]
     },
     "execution_count": 47,
     "metadata": {},
     "output_type": "execute_result"
    }
   ],
   "source": [
    "# Code Starts here\n",
    "df_test=pd.read_csv(\"test.csv\")\n",
    "df_test.isnull().sum()\n",
    "df_test.shape\n",
    "\n",
    "# Code ends here"
   ]
  },
  {
   "cell_type": "code",
   "execution_count": 48,
   "metadata": {},
   "outputs": [],
   "source": [
    "Id=df_test['Id']"
   ]
  },
  {
   "cell_type": "code",
   "execution_count": 49,
   "metadata": {},
   "outputs": [],
   "source": [
    "df_test.drop([\"Id\",\"Department\",'Job',\"Employee Identifier\"],axis=1,inplace=True)"
   ]
  },
  {
   "cell_type": "code",
   "execution_count": null,
   "metadata": {},
   "outputs": [],
   "source": [
    "df_test.head()"
   ]
  },
  {
   "cell_type": "code",
   "execution_count": 50,
   "metadata": {},
   "outputs": [],
   "source": [
    "treat_null_values(df_test)   "
   ]
  },
  {
   "cell_type": "code",
   "execution_count": null,
   "metadata": {},
   "outputs": [],
   "source": [
    "df_test.info()"
   ]
  },
  {
   "cell_type": "code",
   "execution_count": 51,
   "metadata": {},
   "outputs": [],
   "source": [
    "le=LabelEncoder()  \n",
    "df_test['Union']=df_test['Union'].astype('str')\n",
    "encode_category(df_test,le,['Year','Year Type','Organization Group', 'Union', 'Job Family']) "
   ]
  },
  {
   "cell_type": "markdown",
   "metadata": {},
   "source": [
    "df_test = pd.concat([pd.get_dummies(df_test ['Organization Group']), train], axis = 1)\n",
    "df_test  = pd.concat([pd.get_dummies(df_test ['Job Family']), train], axis = 1)\n",
    "df_test  = pd.concat([pd.get_dummies(df_test ['Union']), train], axis = 1)\n",
    "df_test  = pd.concat([pd.get_dummies(df_test ['Year']), train], axis = 1)\n",
    "df_test  = pd.concat([pd.get_dummies(df_test ['Year Type']), train], axis = 1)\n",
    "\n",
    "df_test .drop(['Year', 'Organization Group','Union','Job Family','Year Type'],axis = 1, inplace = True)"
   ]
  },
  {
   "cell_type": "code",
   "execution_count": 52,
   "metadata": {},
   "outputs": [],
   "source": [
    "clean_dollar(df_test,['Retirement', 'Health and Dental', 'Other Benefits'])    "
   ]
  },
  {
   "cell_type": "code",
   "execution_count": null,
   "metadata": {},
   "outputs": [],
   "source": [
    "df_test.isnull().sum()"
   ]
  },
  {
   "cell_type": "code",
   "execution_count": null,
   "metadata": {},
   "outputs": [],
   "source": [
    "#df_test=df_test[(df_test['Other Benefits']> -70) & (df_test['Other Benefits']<190)]\n",
    "#df_test=df_test[df_test['Retirement']<300]"
   ]
  },
  {
   "cell_type": "code",
   "execution_count": 53,
   "metadata": {},
   "outputs": [],
   "source": [
    "sqrt_trans(df_test,'Retirement')\n",
    "sqrt_trans(df_test,'Health and Dental')\n",
    "sqrt_trans(df_test,'Other Benefits')"
   ]
  },
  {
   "cell_type": "code",
   "execution_count": null,
   "metadata": {},
   "outputs": [],
   "source": [
    "df_test.shape"
   ]
  },
  {
   "cell_type": "code",
   "execution_count": 54,
   "metadata": {},
   "outputs": [
    {
     "data": {
      "text/plain": [
       "array([ 18.97655494, 347.61611652, 303.05375758, ..., 218.67649256,\n",
       "       292.98337309, 336.18263448])"
      ]
     },
     "execution_count": 54,
     "metadata": {},
     "output_type": "execute_result"
    }
   ],
   "source": [
    "final_pred = model.predict(df_test)\n",
    "final_pred"
   ]
  },
  {
   "cell_type": "code",
   "execution_count": 55,
   "metadata": {},
   "outputs": [
    {
     "data": {
      "text/plain": [
       "array([   360.10963723, 120836.96446691,  91841.57998123, ...,\n",
       "        47819.40840035,  85839.25690538, 113018.7637231 ])"
      ]
     },
     "execution_count": 55,
     "metadata": {},
     "output_type": "execute_result"
    }
   ],
   "source": [
    "lst = []\n",
    "for i in final_pred:\n",
    "    if i < 0:\n",
    "        lst.append(-(i**2))\n",
    "    else:\n",
    "        lst.append(i**2)\n",
    "\n",
    "rescaled_pred = np.array(lst)\n",
    "rescaled_pred"
   ]
  },
  {
   "cell_type": "raw",
   "metadata": {},
   "source": [
    "submission = pd.DataFrame({'Id':Id, 'Total Compensation': rescaled_pred})\n",
    "submission.to_csv('2st_submission.csv', index = False)"
   ]
  },
  {
   "cell_type": "code",
   "execution_count": 56,
   "metadata": {},
   "outputs": [],
   "source": [
    "sample_submission = pd.DataFrame({'Id':Id,'Total Compensation':rescaled_pred})\n",
    "\n",
    "# Convert the sample submission file into a csv file\n",
    "sample_submission.to_csv('sample_submission_3.csv',index=False)"
   ]
  },
  {
   "cell_type": "code",
   "execution_count": null,
   "metadata": {},
   "outputs": [],
   "source": []
  }
 ],
 "metadata": {
  "kernelspec": {
   "display_name": "Python 3",
   "language": "python",
   "name": "python3"
  },
  "language_info": {
   "codemirror_mode": {
    "name": "ipython",
    "version": 3
   },
   "file_extension": ".py",
   "mimetype": "text/x-python",
   "name": "python",
   "nbconvert_exporter": "python",
   "pygments_lexer": "ipython3",
   "version": "3.8.3"
  }
 },
 "nbformat": 4,
 "nbformat_minor": 4
}
